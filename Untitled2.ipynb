{
  "nbformat": 4,
  "nbformat_minor": 0,
  "metadata": {
    "colab": {
      "name": "Untitled2.ipynb",
      "provenance": [],
      "authorship_tag": "ABX9TyOZRI92coiA4oas0ZiToPXG",
      "include_colab_link": true
    },
    "kernelspec": {
      "name": "python3",
      "display_name": "Python 3"
    }
  },
  "cells": [
    {
      "cell_type": "markdown",
      "metadata": {
        "id": "view-in-github",
        "colab_type": "text"
      },
      "source": [
        "<a href=\"https://colab.research.google.com/github/xserra68/PruebaMIT1/blob/main/Untitled2.ipynb\" target=\"_parent\"><img src=\"https://colab.research.google.com/assets/colab-badge.svg\" alt=\"Open In Colab\"/></a>"
      ]
    },
    {
      "cell_type": "code",
      "metadata": {
        "colab": {
          "base_uri": "https://localhost:8080/"
        },
        "id": "uIlCx-XxVffE",
        "outputId": "e2376b3e-0d97-443f-8a96-41219e2c30aa"
      },
      "source": [
        "import numpy as np\r\n",
        "x=np.array([[[8,5.4,78,4,4],[2,3,4,3,2]],[[2,2,2,2,6],[3,3,3,3,3]]])\r\n",
        "print('x:', x)\r\n",
        "print(\"ndim:\", x.ndim)\r\n",
        "print(\"nshape:\", x.shape)\r\n",
        "print(\"nsize:\", x.size)\r\n",
        "print(\"ntype:\", x.dtype)\r\n",
        "print(\"3z\",np.zeros((3,3)))\r\n",
        "print(\"one\",np.ones((4,4)))\r\n",
        "print(\"uni\",np.eye((4)))"
      ],
      "execution_count": 24,
      "outputs": [
        {
          "output_type": "stream",
          "text": [
            "x: [[[ 8.   5.4 78.   4.   4. ]\n",
            "  [ 2.   3.   4.   3.   2. ]]\n",
            "\n",
            " [[ 2.   2.   2.   2.   6. ]\n",
            "  [ 3.   3.   3.   3.   3. ]]]\n",
            "ndim: 3\n",
            "nshape: (2, 2, 5)\n",
            "nsize: 20\n",
            "ntype: float64\n",
            "3z [[0. 0. 0.]\n",
            " [0. 0. 0.]\n",
            " [0. 0. 0.]]\n",
            "one [[1. 1. 1. 1.]\n",
            " [1. 1. 1. 1.]\n",
            " [1. 1. 1. 1.]\n",
            " [1. 1. 1. 1.]]\n",
            "uni [[1. 0. 0. 0.]\n",
            " [0. 1. 0. 0.]\n",
            " [0. 0. 1. 0.]\n",
            " [0. 0. 0. 1.]]\n"
          ],
          "name": "stdout"
        }
      ]
    }
  ]
}