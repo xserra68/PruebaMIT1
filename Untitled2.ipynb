{
  "nbformat": 4,
  "nbformat_minor": 0,
  "metadata": {
    "colab": {
      "name": "Untitled2.ipynb",
      "provenance": [],
      "collapsed_sections": [],
      "authorship_tag": "ABX9TyO74OoVTS2qu9V5MvczcGGM",
      "include_colab_link": true
    },
    "kernelspec": {
      "name": "python3",
      "display_name": "Python 3"
    }
  },
  "cells": [
    {
      "cell_type": "markdown",
      "metadata": {
        "id": "view-in-github",
        "colab_type": "text"
      },
      "source": [
        "<a href=\"https://colab.research.google.com/github/xserra68/PruebaMIT1/blob/main/Untitled2.ipynb\" target=\"_parent\"><img src=\"https://colab.research.google.com/assets/colab-badge.svg\" alt=\"Open In Colab\"/></a>"
      ]
    },
    {
      "cell_type": "code",
      "metadata": {
        "colab": {
          "base_uri": "https://localhost:8080/"
        },
        "id": "uIlCx-XxVffE",
        "outputId": "80368db4-a948-4f82-ec1c-cc42e9d1e70b"
      },
      "source": [
        "import numpy as np\r\n",
        "x=np.array([[[8,5.4,78,4,4],[2,3,4,3,2]],[[2,2,2,2,6],[3,3,3,3,3]]])\r\n",
        "print('x:', x)\r\n",
        "print(\"ndim:\", x.ndim)\r\n",
        "print(\"nshape:\", x.shape)\r\n",
        "print(\"nsize:\", x.size)\r\n",
        "print(\"ntype:\", x.dtype)\r\n",
        "print(\"3z\",np.zeros((3,3)))\r\n",
        "print(\"one\",np.ones((4,4)))\r\n",
        "print(\"uni\",np.eye((4)))\r\n",
        "print(\"rnd\",np.random.random((3,3)))"
      ],
      "execution_count": 25,
      "outputs": [
        {
          "output_type": "stream",
          "text": [
            "x: [[[ 8.   5.4 78.   4.   4. ]\n",
            "  [ 2.   3.   4.   3.   2. ]]\n",
            "\n",
            " [[ 2.   2.   2.   2.   6. ]\n",
            "  [ 3.   3.   3.   3.   3. ]]]\n",
            "ndim: 3\n",
            "nshape: (2, 2, 5)\n",
            "nsize: 20\n",
            "ntype: float64\n",
            "3z [[0. 0. 0.]\n",
            " [0. 0. 0.]\n",
            " [0. 0. 0.]]\n",
            "one [[1. 1. 1. 1.]\n",
            " [1. 1. 1. 1.]\n",
            " [1. 1. 1. 1.]\n",
            " [1. 1. 1. 1.]]\n",
            "uni [[1. 0. 0. 0.]\n",
            " [0. 1. 0. 0.]\n",
            " [0. 0. 1. 0.]\n",
            " [0. 0. 0. 1.]]\n",
            "rnd [[0.28342236 0.97489574 0.32217872]\n",
            " [0.88437634 0.6264005  0.14398635]\n",
            " [0.10096193 0.62296741 0.74507094]]\n"
          ],
          "name": "stdout"
        }
      ]
    }
  ]
}